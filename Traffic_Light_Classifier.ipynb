{
 "cells": [
  {
   "cell_type": "markdown",
   "metadata": {},
   "source": [
    "# Traffic Light Classifier\n",
    "---\n",
    "\n",
    "In this project, you’ll use your knowledge of computer vision techniques to build a classifier for images of traffic lights! You'll be given a dataset of traffic light images in which one of three lights is illuminated: red, yellow, or green.\n",
    "\n",
    "In this notebook, you'll pre-process these images, extract features that will help us distinguish the different types of images, and use those features to classify the traffic light images into three classes: red, yellow, or green. The tasks will be broken down into a few sections:\n",
    "\n",
    "1. **Loading and visualizing the data**. \n",
    "      The first step in any classification task is to be familiar with your data; you'll need to load in the images of traffic lights and visualize them!\n",
    "\n",
    "2. **Pre-processing**. \n",
    "    The input images and output labels need to be standardized. This way, you can analyze all the input images using the same classification pipeline, and you know what output to expect when you eventually classify a *new* image.\n",
    "    \n",
    "3. **Feature extraction**. \n",
    "    Next, you'll extract some features from each image that will help distinguish and eventually classify these images.\n",
    "   \n",
    "4. **Classification and visualizing error**. \n",
    "    Finally, you'll write one function that uses your features to classify *any* traffic light image. This function will take in an image and output a label. You'll also be given code to determine the accuracy of your classification model.    \n",
    "    \n",
    "5. **Evaluate your model**.\n",
    "    To pass this project, your classifier must be >90% accurate and never classify any red lights as green; it's likely that you'll need to improve the accuracy of your classifier by changing existing features or adding new features. I'd also encourage you to try to get as close to 100% accuracy as possible!\n",
    "    \n",
    "Here are some sample images from the dataset (from left to right: red, green, and yellow traffic lights):\n",
    "<img src=\"images/all_lights.png\" width=\"50%\" height=\"50%\">\n"
   ]
  },
  {
   "cell_type": "markdown",
   "metadata": {},
   "source": [
    "---\n",
    "### *Here's what you need to know to complete the project:*\n",
    "\n",
    "Some template code has already been provided for you, but you'll need to implement additional code steps to successfully complete this project. Any code that is required to pass this project is marked with **'(IMPLEMENTATION)'** in the header. There are also a couple of questions about your thoughts as you work through this project, which are marked with **'(QUESTION)'** in the header. Make sure to answer all questions and to check your work against the [project rubric](https://review.udacity.com/#!/rubrics/1213/view) to make sure you complete the necessary classification steps!\n",
    "\n",
    "Your project submission will be evaluated based on the code implementations you provide, and on two main classification criteria.\n",
    "Your complete traffic light classifier should have:\n",
    "1. **Greater than 90% accuracy**\n",
    "2. ***Never* classify red lights as green**\n"
   ]
  },
  {
   "cell_type": "markdown",
   "metadata": {},
   "source": [
    "# 1. Loading and Visualizing the Traffic Light Dataset\n",
    "\n",
    "This traffic light dataset consists of 1484 number of color images in 3 categories - red, yellow, and green. As with most human-sourced data, the data is not evenly distributed among the types. There are:\n",
    "* 904 red traffic light images\n",
    "* 536 green traffic light images\n",
    "* 44 yellow traffic light images\n",
    "\n",
    "*Note: All images come from this [MIT self-driving car course](https://selfdrivingcars.mit.edu/) and are licensed under a [Creative Commons Attribution-ShareAlike 4.0 International License](https://creativecommons.org/licenses/by-sa/4.0/).*"
   ]
  },
  {
   "cell_type": "markdown",
   "metadata": {},
   "source": [
    "### Import resources\n",
    "\n",
    "Before you get started on the project code, import the libraries and resources that you'll need."
   ]
  },
  {
   "cell_type": "code",
   "execution_count": 376,
   "metadata": {},
   "outputs": [],
   "source": [
    "import cv2 # computer vision library\n",
    "import helpers # helper functions\n",
    "\n",
    "import random\n",
    "import numpy as np\n",
    "import matplotlib.pyplot as plt\n",
    "import matplotlib.image as mpimg # for loading in images\n",
    "\n",
    "%matplotlib inline"
   ]
  },
  {
   "cell_type": "markdown",
   "metadata": {},
   "source": [
    "## Training and Testing Data\n",
    "\n",
    "All 1484 of the traffic light images are separated into training and testing datasets. \n",
    "\n",
    "* 80% of these images are training images, for you to use as you create a classifier.\n",
    "* 20% are test images, which will be used to test the accuracy of your classifier.\n",
    "* All images are pictures of 3-light traffic lights with one light illuminated.\n",
    "\n",
    "## Define the image directories\n",
    "\n",
    "First, we set some variables to keep track of some where our images are stored:\n",
    "\n",
    "    IMAGE_DIR_TRAINING: the directory where our training image data is stored\n",
    "    IMAGE_DIR_TEST: the directory where our test image data is stored"
   ]
  },
  {
   "cell_type": "code",
   "execution_count": 377,
   "metadata": {},
   "outputs": [],
   "source": [
    "# Image data directories\n",
    "IMAGE_DIR_TRAINING = \"traffic_light_images/training/\"\n",
    "IMAGE_DIR_TEST = \"traffic_light_images/test/\""
   ]
  },
  {
   "cell_type": "markdown",
   "metadata": {},
   "source": [
    "## Load the datasets\n",
    "\n",
    "These first few lines of code will load the training traffic light images and store all of them in a variable, `IMAGE_LIST`. This list contains the images and their associated label (\"red\", \"yellow\", \"green\"). \n",
    "\n",
    "You are encouraged to take a look at the `load_dataset` function in the helpers.py file. This will give you a good idea about how lots of image files can be read in from a directory using the [glob library](https://pymotw.com/2/glob/). The `load_dataset` function takes in the name of an image directory and returns a list of images and their associated labels. \n",
    "\n",
    "For example, the first image-label pair in `IMAGE_LIST` can be accessed by index: \n",
    "``` IMAGE_LIST[0][:]```.\n"
   ]
  },
  {
   "cell_type": "code",
   "execution_count": 378,
   "metadata": {},
   "outputs": [],
   "source": [
    "# Using the load_dataset function in helpers.py\n",
    "# Load training data\n",
    "IMAGE_LIST = helpers.load_dataset(IMAGE_DIR_TRAINING)\n"
   ]
  },
  {
   "cell_type": "markdown",
   "metadata": {},
   "source": [
    "## Visualize the Data\n",
    "\n",
    "The first steps in analyzing any dataset are to 1. load the data and 2. look at the data. Seeing what it looks like will give you an idea of what to look for in the images, what kind of noise or inconsistencies you have to deal with, and so on. This will help you understand the image dataset, and **understanding a dataset is part of making predictions about the data**."
   ]
  },
  {
   "cell_type": "markdown",
   "metadata": {},
   "source": [
    "---\n",
    "### Visualize the input images\n",
    "\n",
    "Visualize and explore the image data! Write code to display an image in `IMAGE_LIST`:\n",
    "* Display the image\n",
    "* Print out the shape of the image \n",
    "* Print out its corresponding label\n",
    "\n",
    "See if you can display at least one of each type of traffic light image – red, green, and yellow — and look at their similarities and differences."
   ]
  },
  {
   "cell_type": "code",
   "execution_count": 379,
   "metadata": {},
   "outputs": [
    {
     "name": "stdout",
     "output_type": "stream",
     "text": [
      "Image: 732\n",
      "Shape: (62, 28, 3)\n",
      "Label: yellow\n"
     ]
    },
    {
     "data": {
      "text/plain": [
       "<matplotlib.image.AxesImage at 0x7fe6902c85c0>"
      ]
     },
     "execution_count": 379,
     "metadata": {},
     "output_type": "execute_result"
    },
    {
     "data": {
      "image/png": "[encoded data removed]",
      "text/plain": [
       "<matplotlib.figure.Figure at 0x7fe68b59a3c8>"
      ]
     },
     "metadata": {
      "needs_background": "light"
     },
     "output_type": "display_data"
    }
   ],
   "source": [
    "## TODO: Write code to display an image in IMAGE_LIST (try finding a yellow traffic light!)\n",
    "## TODO: Print out 1. The shape of the image and 2. The image's label\n",
    "# Select an image by index\n",
    "#for image_num in range(len(IMAGE_LIST)):\n",
    "#    selected_image = IMAGE_LIST[image_num][0]\n",
    "#    selected_label = IMAGE_LIST[image_num][1]\n",
    "\n",
    "    # Display image and data about it\n",
    "#    plt.imshow(selected_image)\n",
    "#    print(\"Image:\", image_num)\n",
    "#    print(\"Shape: \"+str(selected_image.shape))\n",
    "#    print(\"Label: \" + str(selected_label))\n",
    "        \n",
    "image_num = 732\n",
    "selected_image = IMAGE_LIST[image_num][0]\n",
    "selected_label = IMAGE_LIST[image_num][1]\n",
    "print(\"Image:\", image_num)\n",
    "print(\"Shape: \"+str(selected_image.shape))\n",
    "print(\"Label: \" + str(selected_label))\n",
    "plt.imshow(selected_image)\n"
   ]
  },
  {
   "cell_type": "markdown",
   "metadata": {},
   "source": [
    "# 2. Pre-process the Data\n",
    "\n",
    "After loading in each image, you have to standardize the input and output!\n",
    "\n",
    "### Input\n",
    "\n",
    "This means that every input image should be in the same format, of the same size, and so on. We'll be creating features by performing the same analysis on every picture, and for a classification task like this, it's important that **similar images create similar features**! \n",
    "\n",
    "### Output\n",
    "\n",
    "We also need the output to be a label that is easy to read and easy to compare with other labels. It is good practice to convert categorical data like \"red\" and \"green\" to numerical data.\n",
    "\n",
    "A very common classification output is a 1D list that is the length of the number of classes - three in the case of red, yellow, and green lights - with the values 0 or 1 indicating which class a certain image is. For example, since we have three classes (red, yellow, and green), we can make a list with the order: [red value, yellow value, green value]. In general, order does not matter, we choose the order [red value, yellow value, green value] in this case to reflect the position of each light in descending vertical order.\n",
    "\n",
    "A red light should have the  label: [1, 0, 0]. Yellow should be: [0, 1, 0]. Green should be: [0, 0, 1]. These labels are called **one-hot encoded labels**.\n",
    "\n",
    "*(Note: one-hot encoding will be especially important when you work with [machine learning algorithms](https://machinelearningmastery.com/how-to-one-hot-encode-sequence-data-in-python/)).*\n",
    "\n",
    "<img src=\"images/processing_steps.png\" width=\"80%\" height=\"80%\">\n"
   ]
  },
  {
   "cell_type": "markdown",
   "metadata": {},
   "source": [
    "---\n",
    "<a id='task2'></a>\n",
    "### (IMPLEMENTATION): Standardize the input images\n",
    "\n",
    "* Resize each image to the desired input size: 32x32px.\n",
    "* (Optional) You may choose to crop, shift, or rotate the images in this step as well.\n",
    "\n",
    "It's very common to have square input sizes that can be rotated (and remain the same size), and analyzed in smaller, square patches. It's also important to make all your images the same size so that they can be sent through the same pipeline of classification steps!"
   ]
  },
  {
   "cell_type": "code",
   "execution_count": 380,
   "metadata": {},
   "outputs": [],
   "source": [
    "# This function should take in an RGB image and return a new, standardized version\n",
    "def standardize_input(image):\n",
    "    \n",
    "    ## TODO: Resize image and pre-process so that all \"standard\" images are the same size  \n",
    "    width = 32\n",
    "    height = 32\n",
    "    standard_im = np.copy(image)\n",
    "    # Make these images the same size\n",
    "    standard_im = cv2.resize(image, (width, height))    \n",
    "\n",
    "## Define how many pixels to slice off the sides of the original image\n",
    "#row_crop = 90\n",
    "#col_crop = 250\n",
    "## Using image slicing, subtract the row_crop from top/bottom and col_crop from left/right\n",
    "#image_crop = stop2[row_crop:-row_crop, col_crop:-col_crop, :]\n",
    "    \n",
    "    return standard_im\n",
    "    "
   ]
  },
  {
   "cell_type": "markdown",
   "metadata": {},
   "source": [
    "## Standardize the output\n",
    "\n",
    "With each loaded image, we also specify the expected output. For this, we use **one-hot encoding**.\n",
    "\n",
    "* One-hot encode the labels. To do this, create an array of zeros representing each class of traffic light (red, yellow, green), and set the index of the expected class number to 1. \n",
    "\n",
    "Since we have three classes (red, yellow, and green), we have imposed an order of: [red value, yellow value, green value]. To one-hot encode, say, a yellow light, we would first initialize an array to [0, 0, 0] and change the middle value (the yellow value) to 1: [0, 1, 0].\n"
   ]
  },
  {
   "cell_type": "markdown",
   "metadata": {},
   "source": [
    "---\n",
    "<a id='task3'></a>\n",
    "### (IMPLEMENTATION): Implement one-hot encoding"
   ]
  },
  {
   "cell_type": "code",
   "execution_count": 381,
   "metadata": {},
   "outputs": [],
   "source": [
    "## TODO: One hot encode an image label\n",
    "## Given a label - \"red\", \"green\", or \"yellow\" - return a one-hot encoded label\n",
    "\n",
    "# Examples: \n",
    "# one_hot_encode(\"red\") should return: [1, 0, 0]\n",
    "# one_hot_encode(\"yellow\") should return: [0, 1, 0]\n",
    "# one_hot_encode(\"green\") should return: [0, 0, 1]\n",
    "\n",
    "def one_hot_encode(label):\n",
    "    \n",
    "    ## TODO: Create a one-hot encoded label that works for all classes of traffic lights\n",
    "    one_hot_encoded = []\n",
    "    if label == 'red':\n",
    "        one_hot_encoded = [1, 0, 0]\n",
    "    elif label == 'yellow':\n",
    "        one_hot_encoded = [0, 1, 0]\n",
    "    else:\n",
    "        one_hot_encoded = [0, 0, 1]\n",
    "        \n",
    "    return one_hot_encoded\n"
   ]
  },
  {
   "cell_type": "markdown",
   "metadata": {},
   "source": [
    "### Testing as you Code\n",
    "\n",
    "After programming a function like this, it's a good idea to test it, and see if it produces the expected output. **In general, it's good practice to test code in small, functional pieces, after you write it**. This way, you can make sure that your code is correct as you continue to build a classifier, and you can identify any errors early on so that they don't compound.\n",
    "\n",
    "All test code can be found in the file `test_functions.py`. You are encouraged to look through that code and add your own testing code if you find it useful!\n",
    "\n",
    "One test function you'll find is: `test_one_hot(self, one_hot_function)` which takes in one argument, a one_hot_encode function, and tests its functionality. If your one_hot_label code does not work as expected, this test will print ot an error message that will tell you a bit about why your code failed. Once your code works, this should print out TEST PASSED."
   ]
  },
  {
   "cell_type": "code",
   "execution_count": 382,
   "metadata": {},
   "outputs": [
    {
     "data": {
      "text/markdown": [
       "**<span style=\"color: green;\">TEST PASSED</span>**"
      ],
      "text/plain": [
       "<IPython.core.display.Markdown object>"
      ]
     },
     "metadata": {},
     "output_type": "display_data"
    }
   ],
   "source": [
    "# Importing the tests\n",
    "import test_functions\n",
    "tests = test_functions.Tests()\n",
    "\n",
    "# Test for one_hot_encode function\n",
    "tests.test_one_hot(one_hot_encode)\n"
   ]
  },
  {
   "cell_type": "markdown",
   "metadata": {},
   "source": [
    "## Construct a `STANDARDIZED_LIST` of input images and output labels.\n",
    "\n",
    "This function takes in a list of image-label pairs and outputs a **standardized** list of resized images and one-hot encoded labels.\n",
    "\n",
    "This uses the functions you defined above to standardize the input and output, so those functions must be complete for this standardization to work!\n"
   ]
  },
  {
   "cell_type": "code",
   "execution_count": 383,
   "metadata": {},
   "outputs": [],
   "source": [
    "def standardize(image_list):\n",
    "    \n",
    "    # Empty image data array\n",
    "    standard_list = []\n",
    "\n",
    "    # Iterate through all the image-label pairs\n",
    "    for item in image_list:\n",
    "        image = item[0]\n",
    "        label = item[1]\n",
    "\n",
    "        # Standardize the image\n",
    "        standardized_im = standardize_input(image)\n",
    "\n",
    "        # One-hot encode the label\n",
    "        one_hot_label = one_hot_encode(label)    \n",
    "\n",
    "        # Append the image, and it's one hot encoded label to the full, processed list of image data \n",
    "        standard_list.append((standardized_im, one_hot_label))\n",
    "        \n",
    "    return standard_list\n",
    "\n",
    "# Standardize all training images\n",
    "STANDARDIZED_LIST = standardize(IMAGE_LIST)"
   ]
  },
  {
   "cell_type": "markdown",
   "metadata": {},
   "source": [
    "## Visualize the standardized data\n",
    "\n",
    "Display a standardized image from STANDARDIZED_LIST and compare it with a non-standardized image from IMAGE_LIST. Note that their sizes and appearance are different!"
   ]
  },
  {
   "cell_type": "code",
   "execution_count": 384,
   "metadata": {},
   "outputs": [
    {
     "name": "stdout",
     "output_type": "stream",
     "text": [
      "Image: 256\n",
      "Shape: (32, 32, 3)\n",
      "Label: [1, 0, 0]\n"
     ]
    },
    {
     "data": {
      "text/plain": [
       "<matplotlib.image.AxesImage at 0x7fe690890a20>"
      ]
     },
     "execution_count": 384,
     "metadata": {},
     "output_type": "execute_result"
    },
    {
     "data": {
      "image/png": "[encoded data removed]",
      "text/plain": [
       "<matplotlib.figure.Figure at 0x7fe6902d4470>"
      ]
     },
     "metadata": {
      "needs_background": "light"
     },
     "output_type": "display_data"
    }
   ],
   "source": [
    "## TODO: Display a standardized image and its label\n",
    "image_num = 256\n",
    "selected_image = STANDARDIZED_LIST[image_num][0]\n",
    "selected_label = STANDARDIZED_LIST[image_num][1]\n",
    "print(\"Image:\", image_num)\n",
    "print(\"Shape: \"+str(selected_image.shape))\n",
    "print(\"Label: \" + str(selected_label))\n",
    "plt.imshow(selected_image)"
   ]
  },
  {
   "cell_type": "markdown",
   "metadata": {},
   "source": [
    "# 3. Feature Extraction\n",
    "\n",
    "You'll be using what you now about color spaces, shape analysis, and feature construction to create features that help distinguish and classify the three types of traffic light images.\n",
    "\n",
    "You'll be tasked with creating **one feature** at a minimum (with the option to create more). The required feature is **a brightness feature using HSV color space**:\n",
    "\n",
    "1. A brightness feature.\n",
    "    - Using HSV color space, create a feature that helps you identify the 3 different classes of traffic light.\n",
    "    - You'll be asked some questions about what methods you tried to locate this traffic light, so, as you progress through this notebook, always be thinking about your approach: what works and what doesn't?\n",
    "\n",
    "2. (Optional): Create more features! \n",
    "\n",
    "Any more features that you create are up to you and should improve the accuracy of your traffic light classification algorithm! One thing to note is that, to pass this project you must **never classify a red light as a green light** because this creates a serious safety risk for a self-driving car. To avoid this misclassification, you might consider adding another feature that specifically distinguishes between red and green lights.\n",
    "\n",
    "These features will be combined near the end of his notebook to form a complete classification algorithm."
   ]
  },
  {
   "cell_type": "markdown",
   "metadata": {},
   "source": [
    "## Creating a brightness feature \n",
    "\n",
    "There are a number of ways to create a brightness feature that will help you characterize images of traffic lights, and it will be up to you to decide on the best procedure to complete this step. You should visualize and test your code as you go.\n",
    "\n",
    "Pictured below is a sample pipeline for creating a brightness feature (from left to right: standardized image, HSV color-masked image, cropped image, brightness feature):\n",
    "\n",
    "<img src=\"images/feature_ext_steps.png\" width=\"70%\" height=\"70%\">\n"
   ]
  },
  {
   "cell_type": "markdown",
   "metadata": {},
   "source": [
    "## RGB to HSV conversion\n",
    "\n",
    "Below, a test image is converted from RGB to HSV colorspace and each component is displayed in an image."
   ]
  },
  {
   "cell_type": "code",
   "execution_count": 385,
   "metadata": {},
   "outputs": [
    {
     "name": "stdout",
     "output_type": "stream",
     "text": [
      "Label [red, yellow, green]: [0, 0, 1]\n"
     ]
    },
    {
     "data": {
      "text/plain": [
       "<matplotlib.image.AxesImage at 0x7fe68a4890f0>"
      ]
     },
     "execution_count": 385,
     "metadata": {},
     "output_type": "execute_result"
    },
    {
     "data": {
      "image/png": "[encoded data removed]",
      "text/plain": [
       "<matplotlib.figure.Figure at 0x7fe69011b080>"
      ]
     },
     "metadata": {
      "needs_background": "light"
     },
     "output_type": "display_data"
    }
   ],
   "source": [
    "# Convert and image to HSV colorspace\n",
    "# Visualize the individual color channels\n",
    "\n",
    "image_num = 765\n",
    "test_im = STANDARDIZED_LIST[image_num][0]\n",
    "test_label = STANDARDIZED_LIST[image_num][1]\n",
    "\n",
    "# Convert to HSV\n",
    "hsv = cv2.cvtColor(test_im, cv2.COLOR_RGB2HSV)\n",
    "\n",
    "# Print image label\n",
    "print('Label [red, yellow, green]: ' + str(test_label))\n",
    "\n",
    "# HSV channels\n",
    "h = hsv[:,:,0]\n",
    "s = hsv[:,:,1]\n",
    "v = hsv[:,:,2]\n",
    "\n",
    "# Plot the original image and the three channels\n",
    "f, (ax1, ax2, ax3, ax4) = plt.subplots(1, 4, figsize=(20,10))\n",
    "ax1.set_title('Standardized image')\n",
    "ax1.imshow(test_im)\n",
    "ax2.set_title('H channel')\n",
    "ax2.imshow(h, cmap='gray')\n",
    "ax3.set_title('S channel')\n",
    "ax3.imshow(s, cmap='gray')\n",
    "ax4.set_title('V channel')\n",
    "ax4.imshow(v, cmap='gray')\n"
   ]
  },
  {
   "cell_type": "markdown",
   "metadata": {},
   "source": [
    "---\n",
    "<a id='task7'></a>\n",
    "### (IMPLEMENTATION): Create a brightness feature that uses HSV color space\n",
    "\n",
    "Write a function that takes in an RGB image and returns a 1D feature vector and/or single value that will help classify an image of a traffic light. The only requirement is that this function should apply an HSV colorspace transformation, the rest is up to you. \n",
    "\n",
    "From this feature, you should be able to estimate an image's label and classify it as either a red, green, or yellow traffic light. You may also define helper functions if they simplify your code."
   ]
  },
  {
   "cell_type": "code",
   "execution_count": 386,
   "metadata": {},
   "outputs": [
    {
     "name": "stdout",
     "output_type": "stream",
     "text": [
      "([0, 0, 0], [0, 0, 6]) ([0, 0, 0], [0, 0, 631])\n"
     ]
    }
   ],
   "source": [
    "## TODO: Create a brightness feature that takes in an RGB image and outputs a feature vector and/or value\n",
    "## This feature should use HSV colorspace values\n",
    "#############################################################################################################\n",
    "###  first version manually applied a mask.  Left this version in place for comparisons.\n",
    "#############################################################################################################\n",
    "def check_pixels(s_threshold, v_threshold, hsv, h_grid, s_grid, v_grid):\n",
    "    colors = [0, 0 ,0]\n",
    "    colors_row = [0, 0, 0]\n",
    "    for row in range(2, len(hsv)-2):\n",
    "        for col in range(4, len(hsv[0])-4):\n",
    "#            print(\"Row/Col:\", row, col, \"H:\", h_grid[row][col], \"S:\", s_grid[row][col], \"V:\", v_grid[row][col])\n",
    "            if s_grid[row][col] > s_threshold and v_grid[row][col] > v_threshold:\n",
    "#                print(\"Row/Col:\", row, col, \"H:\", h_grid[row][col], \"S:\", s_grid[row][col], \"V:\", v_grid[row][col])\n",
    "                if h_grid[row][col] >= 0 and h_grid[row][col] <= 10:\n",
    "                    colors[0] += 1\n",
    "                elif h_grid[row][col] >= 160 and h_grid[row][col] <= 180:\n",
    "                    colors[0] += 1\n",
    "                elif h_grid[row][col] > 10 and h_grid[row][col] <= 70:\n",
    "                    colors[1] += 1\n",
    "                elif h_grid[row][col] > 70 and h_grid[row][col] < 160:\n",
    "                    colors[2] += 1\n",
    "    feature = [0, 0 ,0]\n",
    "    if (colors[0] > colors[1] and colors[0] > colors[2] and colors[0] > 10):\n",
    "        feature = [1, 0, 0]\n",
    "    elif (colors[1] > colors[0] and colors[1] > colors[2] and colors[1] > 10):\n",
    "        feature = [0, 1, 0]\n",
    "    elif (colors[2] > colors[0] and colors[2] > colors[1] and colors[2] > 10):\n",
    "        feature = [0, 0, 1]\n",
    "\n",
    "    return feature, colors\n",
    "\n",
    "def create_feature(rgb_image):\n",
    "    \n",
    "    ## TODO: Convert image to HSV color space\n",
    "    hsv = cv2.cvtColor(rgb_image, cv2.COLOR_RGB2HSV)\n",
    "    ## TODO: Create and return a feature value and/or vector\n",
    "\n",
    "    # Look at all cells with a saturation less than 10.  Then check the HUE\n",
    "    # HUE: red = 0->20\n",
    "    # HUE: yellow = 10->70\n",
    "    # HUE: green = 70->160\n",
    "    # - need to check on average brightness of the image to see if we can change the V value\n",
    "    h_grid = hsv[:,:,0]\n",
    "    s_grid = hsv[:,:,1]\n",
    "    v_grid = hsv[:,:,2]\n",
    "    # Add up all the pixel values in the V channel\n",
    "    sum_s = np.sum(hsv[:,:,1])\n",
    "    sum_v = np.sum(hsv[:,:,2])\n",
    "    area = 32*32.0  # pixels\n",
    "    # find the avg\n",
    "    avg_s = sum_s/area\n",
    "    avg_v = sum_v/area\n",
    "\n",
    "    # INITIAL SATURATION VALUES\n",
    "    s_threshold = 95\n",
    "    v_threshold = 220\n",
    "\n",
    "    if avg_s < 15:\n",
    "        s_threshold = 20\n",
    "    elif avg_s < 27:\n",
    "        s_threshold = 30\n",
    "    if avg_v < 135:\n",
    "        v_threshold = 120\n",
    "    feature, colors = check_pixels(s_threshold, v_threshold, hsv, h_grid, s_grid, v_grid)\n",
    "########### if no value found, try with more relaxes parameters\n",
    "####  note for high avg V scores, this is skipped to allow another feature to determine the value\n",
    "    if feature == [0, 0, 0] and avg_v < 199:\n",
    "        s_threshold = 80\n",
    "        v_threshold = 180\n",
    "        feature, colors = check_pixels(s_threshold, v_threshold, hsv, h_grid, s_grid, v_grid)\n",
    "        \n",
    "    return feature, colors\n",
    "\n",
    "#############################################################################################################\n",
    "###  version \"new\" employs masks and sums of Hue's to find the feature more efficiently than version 1\n",
    "#############################################################################################################\n",
    "def clean_image(rgb_image, h1, h2, s1, s2, v1, v2):\n",
    "    lower_green = np.array([h1, s1, v1])\n",
    "    upper_green = np.array([h2, s2, v2])\n",
    "    ## TODO: Define the masked area and mask the image\n",
    "    # Don't forget to make a copy of the original image to manipulate\n",
    "    hsv = cv2.cvtColor(rgb_image, cv2.COLOR_RGB2HSV)\n",
    "    mask = cv2.inRange(hsv, lower_green, upper_green)\n",
    "    masked_image = np.copy(rgb_image)\n",
    "    masked_image[mask == 0] = [0, 0, 0]\n",
    "    \n",
    "    return masked_image\n",
    "\n",
    "def get_colors_from_masks(rgb_image, s_threshold, v_threshold, min_r, min_y, min_g):\n",
    "    feature = [0, 0, 0]\n",
    "    colors = [0, 0, 0]\n",
    "        \n",
    "    masked_im_r1 = clean_image(rgb_image, 0, 10, s_threshold, 255, v_threshold, 255)\n",
    "    hsv_mask_r1 = cv2.cvtColor(masked_im_r1, cv2.COLOR_RGB2HSV)\n",
    "    h_grid_mask_r1 = hsv_mask_r1[:,:,0]\n",
    "    masked_im_r2 = clean_image(rgb_image, 160, 180, s_threshold, 255, v_threshold, 255)\n",
    "    hsv_mask_r2 = cv2.cvtColor(masked_im_r2, cv2.COLOR_RGB2HSV)\n",
    "    h_grid_mask_r2 = hsv_mask_r2[:,:,0]\n",
    "    masked_im_y = clean_image(rgb_image, 11, 70, s_threshold, 255, v_threshold, 255)\n",
    "    hsv_mask_y = cv2.cvtColor(masked_im_y, cv2.COLOR_RGB2HSV)\n",
    "    h_grid_mask_y = hsv_mask_y[:,:,0]\n",
    "    masked_im_g = clean_image(rgb_image, 71, 159, s_threshold, 255, v_threshold, 255)\n",
    "    hsv_mask_g = cv2.cvtColor(masked_im_g, cv2.COLOR_RGB2HSV)\n",
    "    h_grid_mask_g = hsv_mask_g[:,:,0]\n",
    "\n",
    "    colors[0] = np.sum(h_grid_mask_r1[:]) + np.sum(h_grid_mask_r2[:])\n",
    "    colors[1] = np.sum(h_grid_mask_y[:])\n",
    "    colors[2] = np.sum(h_grid_mask_g[:])\n",
    "    if (colors[0] > colors[1] and colors[0] > colors[2] and colors[0] > min_r):\n",
    "        feature = [1, 0, 0]\n",
    "    elif (colors[1] > colors[0] and colors[1] > colors[2] and colors[1] > min_y):\n",
    "        feature = [0, 1, 0]\n",
    "    elif (colors[2] > colors[0] and colors[2] > colors[1] and colors[2] > min_g):\n",
    "        feature = [0, 0, 1]\n",
    "\n",
    "    return feature, colors\n",
    "\n",
    "def create_feature_new(rgb_image):\n",
    "    # Look at all cells with a saturation less than 10.  Then check the HUE\n",
    "    # HUE: red = 0->10\n",
    "    # HUE: yellow = 11->70\n",
    "    # HUE: green = 71->159\n",
    "    \n",
    "    ## TODO: Convert image to HSV color space\n",
    "    # INITIAL SATURATION VALUES\n",
    "    feature = [0, 0, 0]\n",
    "    colors = [0, 0, 0]\n",
    "    s_threshold = 95\n",
    "    v_threshold = 220\n",
    "    hsv = cv2.cvtColor(rgb_image, cv2.COLOR_RGB2HSV)\n",
    "    # - need to check on average brightness of the image to see if we can change the V value\n",
    "    s_grid = hsv[:,:,1]\n",
    "    v_grid = hsv[:,:,2]\n",
    "    # Add up all the pixel values in the V channel\n",
    "    sum_s = np.sum(hsv[:,:,1])\n",
    "    sum_v = np.sum(hsv[:,:,2])\n",
    "    area = 32*32.0  # pixels\n",
    "    # find the avg\n",
    "    avg_s = sum_s/area\n",
    "    avg_v = sum_v/area\n",
    "    if avg_s < 15:\n",
    "        s_threshold = 20\n",
    "    elif avg_s < 27:\n",
    "        s_threshold = 30\n",
    "    if avg_v < 135:\n",
    "        v_threshold = 120\n",
    "    feature, colors = get_colors_from_masks(rgb_image, s_threshold, v_threshold, 10, 100, 1200)\n",
    "########### if no value found, try with more relaxes parameters\n",
    "####  note for high avg V scores, this is skipped to allow another feature to determine the value\n",
    "    if feature == [0, 0, 0] and avg_v < 199:\n",
    "        s_threshold = 80\n",
    "        v_threshold = 180\n",
    "        feature, colors = get_colors_from_masks(rgb_image, s_threshold, v_threshold, 10, 100, 1000)\n",
    "\n",
    "    return feature, colors\n",
    "\n",
    "#############################################################################################################\n",
    "\n",
    "mis = []\n",
    "#for i in range(len(STANDARDIZED_LIST)):\n",
    "#    ft = estimate_label(STANDARDIZED_LIST[i][0])\n",
    "#    ft1, colors = create_feature(STANDARDIZED_LIST[i][0])\n",
    "#    ft2, colors2 = create_feature_new(STANDARDIZED_LIST[i][0])\n",
    "#    if STANDARDIZED_LIST[i][1] != ft2:\n",
    "#        mis.append([i, STANDARDIZED_LIST[i][1], ft1, ft2])\n",
    "#print(len(mis))\n",
    "for j in range(len(mis)):\n",
    "    if mis[j][2] != [0,0,0]:\n",
    "        print (mis[j])\n",
    "i = 765\n",
    "ft1 = create_feature(STANDARDIZED_LIST[i][0])\n",
    "ft2 = create_feature_new(STANDARDIZED_LIST[i][0])\n",
    "print (ft1, ft2)"
   ]
  },
  {
   "cell_type": "markdown",
   "metadata": {
    "collapsed": true
   },
   "source": [
    "## (Optional) Create more features to help accurately label the traffic light images"
   ]
  },
  {
   "cell_type": "code",
   "execution_count": 387,
   "metadata": {},
   "outputs": [],
   "source": [
    "# (Optional) Add more image analysis and create more features\n",
    "# check for placement of pixels with a high V value - top 1/3 = red, 2/3 = yellow, 3/3 = green\n",
    "def create_feature2(rgb_image):\n",
    "    \n",
    "    ## TODO: Convert image to HSV color space\n",
    "    hsv = cv2.cvtColor(rgb_image, cv2.COLOR_RGB2HSV)\n",
    "    ## TODO: Create and return a feature value and/or vector\n",
    "\n",
    "    v_grid = hsv[:,:,2]\n",
    "    colors = [0, 0, 0]\n",
    "    for row in range(2, len(hsv)-2):\n",
    "        for col in range(6, len(hsv[0]-7)):\n",
    "            if row >= 0 and row < 12:\n",
    "                if v_grid[row][col] >= 220:\n",
    "                    colors[0] += 1\n",
    "            elif row >= 12 and row < 23:\n",
    "                if v_grid[row][col] >= 220:\n",
    "                    colors[1] += 1\n",
    "            elif row >= 23 and row < 32:\n",
    "                if v_grid[row][col] >= 220:\n",
    "                    colors[2] += 1\n",
    "    feature = [0, 0 ,0]\n",
    "    if (colors[0] >= colors[1] and colors[0] >= colors[2]):\n",
    "        feature = [1, 0, 0]\n",
    "    elif (colors[1] > colors[0] and colors[1] >= colors[2]):\n",
    "        feature = [0, 1, 0]\n",
    "    elif (colors[2] > colors[0] and colors[2] > colors[1]):\n",
    "        feature = [0, 0, 1]\n",
    "\n",
    "    return feature, colors\n"
   ]
  },
  {
   "cell_type": "markdown",
   "metadata": {},
   "source": [
    "## (QUESTION 1): How do the features you made help you distinguish between the 3 classes of traffic light images?"
   ]
  },
  {
   "cell_type": "markdown",
   "metadata": {},
   "source": [
    "**Answer:**\n",
    "My first feature focuses on the Hue/Color of the image.  I left some room for this feature to return no value.\n",
    "The 2nd feature focuses on the location of the Value component of HSV.  The idea behind this is if the first featuere can't distinguish by color, you should be able to determine by position where the most pixels are with a high value (the bright portion of the traffic light)."
   ]
  },
  {
   "cell_type": "markdown",
   "metadata": {
    "collapsed": true
   },
   "source": [
    "# 4. Classification and Visualizing Error\n",
    "\n",
    "Using all of your features, write a function that takes in an RGB image and, using your extracted features, outputs whether a light is red, green or yellow as a one-hot encoded label. This classification function should be able to classify any image of a traffic light!\n",
    "\n",
    "You are encouraged to write any helper functions or visualization code that you may need, but for testing the accuracy, make sure that this `estimate_label` function returns a one-hot encoded label."
   ]
  },
  {
   "cell_type": "markdown",
   "metadata": {},
   "source": [
    "---\n",
    "<a id='task8'></a>\n",
    "### (IMPLEMENTATION): Build a complete classifier "
   ]
  },
  {
   "cell_type": "code",
   "execution_count": 388,
   "metadata": {},
   "outputs": [],
   "source": [
    "# This function should take in RGB image input\n",
    "# Analyze that image using your feature creation code and output a one-hot encoded label\n",
    "def estimate_label(rgb_image):\n",
    "    \n",
    "    ## TODO: Extract feature(s) from the RGB image and use those features to\n",
    "    ## classify the image and output a one-hot encoded label\n",
    "    predicted_label = [0, 0, 0]\n",
    "    label1 = [0, 0, 0]\n",
    "    label2 = [0, 0, 0]\n",
    "    label1, color1 = create_feature_new(rgb_image)\n",
    "    label2, color2 = create_feature2(rgb_image)\n",
    "    if label1 != [0, 0, 0]:\n",
    "            predicted_label = label1\n",
    "    else:\n",
    "        predicted_label = label2\n",
    "        \n",
    "    return predicted_label   \n",
    "\n",
    "#mis = []\n",
    "#for i in range(len(STANDARDIZED_LIST)):\n",
    "#    ft = estimate_label(STANDARDIZED_LIST[i][0])\n",
    "#    ft1 = create_feature_new(STANDARDIZED_LIST[i][0])\n",
    "#    ft2 = create_feature2(STANDARDIZED_LIST[i][0])\n",
    "#    if STANDARDIZED_LIST[i][1] != ft:\n",
    "#        mis.append([i, STANDARDIZED_LIST[i][1], ft, ft1, ft2])\n",
    "#print(len(mis))\n",
    "#for j in range(len(mis)):\n",
    "#    if mis[j][2] != [0,0,0]:\n",
    "#        print (mis[j])"
   ]
  },
  {
   "cell_type": "markdown",
   "metadata": {},
   "source": [
    "## Testing the classifier\n",
    "\n",
    "Here is where we test your classification algorithm using our test set of data that we set aside at the beginning of the notebook! This project will be complete once you've pogrammed a \"good\" classifier.\n",
    "\n",
    "A \"good\" classifier in this case should meet the following criteria (and once it does, feel free to submit your project):\n",
    "1. Get above 90% classification accuracy.\n",
    "2. Never classify a red light as a green light. \n",
    "\n",
    "### Test dataset\n",
    "\n",
    "Below, we load in the test dataset, standardize it using the `standardize` function you defined above, and then **shuffle** it; this ensures that order will not play a role in testing accuracy.\n"
   ]
  },
  {
   "cell_type": "code",
   "execution_count": 389,
   "metadata": {},
   "outputs": [],
   "source": [
    "# Using the load_dataset function in helpers.py\n",
    "# Load test data\n",
    "TEST_IMAGE_LIST = helpers.load_dataset(IMAGE_DIR_TEST)\n",
    "\n",
    "# Standardize the test data\n",
    "STANDARDIZED_TEST_LIST = standardize(TEST_IMAGE_LIST)\n",
    "\n",
    "# Shuffle the standardized test data\n",
    "random.shuffle(STANDARDIZED_TEST_LIST)"
   ]
  },
  {
   "cell_type": "markdown",
   "metadata": {},
   "source": [
    "## Determine the Accuracy\n",
    "\n",
    "Compare the output of your classification algorithm (a.k.a. your \"model\") with the true labels and determine the accuracy.\n",
    "\n",
    "This code stores all the misclassified images, their predicted labels, and their true labels, in a list called `MISCLASSIFIED`. This code is used for testing and *should not be changed*."
   ]
  },
  {
   "cell_type": "code",
   "execution_count": 390,
   "metadata": {},
   "outputs": [
    {
     "name": "stdout",
     "output_type": "stream",
     "text": [
      "Accuracy: 0.9696969696969697\n",
      "Number of misclassified images = 9 out of 297\n"
     ]
    }
   ],
   "source": [
    "# Constructs a list of misclassified images given a list of test images and their labels\n",
    "# This will throw an AssertionError if labels are not standardized (one-hot encoded)\n",
    "\n",
    "def get_misclassified_images(test_images):\n",
    "    # Track misclassified images by placing them into a list\n",
    "    misclassified_images_labels = []\n",
    "\n",
    "    # Iterate through all the test images\n",
    "    # Classify each image and compare to the true label\n",
    "    for image in test_images:\n",
    "\n",
    "        # Get true data\n",
    "        im = image[0]\n",
    "        true_label = image[1]\n",
    "        assert(len(true_label) == 3), \"The true_label is not the expected length (3).\"\n",
    "\n",
    "        # Get predicted label from your classifier\n",
    "        predicted_label = estimate_label(im)\n",
    "        assert(len(predicted_label) == 3), \"The predicted_label is not the expected length (3).\"\n",
    "\n",
    "        # Compare true and predicted labels \n",
    "        if(predicted_label != true_label):\n",
    "            # If these labels are not equal, the image has been misclassified\n",
    "            misclassified_images_labels.append((im, predicted_label, true_label))\n",
    "            \n",
    "    # Return the list of misclassified [image, predicted_label, true_label] values\n",
    "    return misclassified_images_labels\n",
    "\n",
    "\n",
    "# Find all misclassified images in a given test set\n",
    "MISCLASSIFIED = get_misclassified_images(STANDARDIZED_TEST_LIST)\n",
    "\n",
    "# Accuracy calculations\n",
    "total = len(STANDARDIZED_TEST_LIST)\n",
    "num_correct = total - len(MISCLASSIFIED)\n",
    "accuracy = num_correct/total\n",
    "\n",
    "print('Accuracy: ' + str(accuracy))\n",
    "print(\"Number of misclassified images = \" + str(len(MISCLASSIFIED)) +' out of '+ str(total))\n"
   ]
  },
  {
   "cell_type": "markdown",
   "metadata": {},
   "source": [
    "---\n",
    "<a id='task9'></a>\n",
    "### Visualize the misclassified images\n",
    "\n",
    "Visualize some of the images you classified wrong (in the `MISCLASSIFIED` list) and note any qualities that make them difficult to classify. This will help you identify any weaknesses in your classification algorithm."
   ]
  },
  {
   "cell_type": "code",
   "execution_count": 391,
   "metadata": {},
   "outputs": [
    {
     "name": "stdout",
     "output_type": "stream",
     "text": [
      "5 Guess: [1, 0, 0]\n",
      "5 True: [0, 0, 1]\n"
     ]
    },
    {
     "data": {
      "image/png": "[encoded data removed]",
      "text/plain": [
       "<matplotlib.figure.Figure at 0x7fe68ff9b7b8>"
      ]
     },
     "metadata": {
      "needs_background": "light"
     },
     "output_type": "display_data"
    }
   ],
   "source": [
    "# Visualize misclassified example(s)\n",
    "## TODO: Display an image in the `MISCLASSIFIED` list \n",
    "## TODO: Print out its predicted label - to see what the image *was* incorrectly classified as\n",
    "\n",
    "#for i in range(len(MISCLASSIFIED)):\n",
    "#    label = MISCLASSIFIED[i][1]\n",
    "#    true_label= MISCLASSIFIED[i][2]\n",
    "#    plt.imshow(MISCLASSIFIED[i][0])\n",
    "#    print(i, \"Guess:\",label)\n",
    "#    print(i, \"True:\",true_label)\n",
    "    \n",
    "i = 5\n",
    "label = MISCLASSIFIED[i][1]\n",
    "true_label= MISCLASSIFIED[i][2]\n",
    "plt.imshow(MISCLASSIFIED[i][0])\n",
    "print(i, \"Guess:\",label)\n",
    "print(i, \"True:\",true_label)\n"
   ]
  },
  {
   "cell_type": "markdown",
   "metadata": {},
   "source": [
    "---\n",
    "<a id='question2'></a>\n",
    "## (Question 2): After visualizing these misclassifications, what weaknesses do you think your classification algorithm has? Please note at least two."
   ]
  },
  {
   "cell_type": "markdown",
   "metadata": {},
   "source": [
    "**Answer:** \n",
    "1. being able to eliminate the background noise.  I did my best to crop off the background from the traffic light, but I think I would need a better approach to completely/dynamically crop out everything but the traffic light.\n",
    "2. when there is over saturated image, my color feature could be \"tricked\" into seeing a lot more color.  I added logic to work around this, but I think these workarounds could be easily tricked in the real world."
   ]
  },
  {
   "cell_type": "markdown",
   "metadata": {},
   "source": [
    "## Test if you classify any red lights as green\n",
    "\n",
    "**To pass this project, you must not classify any red lights as green!** Classifying red lights as green would cause a car to drive through a red traffic light, so this red-as-green error is very dangerous in the real world. \n",
    "\n",
    "The code below lets you test to see if you've misclassified any red lights as green in the test set. **This test assumes that `MISCLASSIFIED` is a list of tuples with the order: [misclassified_image, predicted_label, true_label].**\n",
    "\n",
    "Note: this is not an all encompassing test, but its a good indicator that, if you pass, you are on the right track! This iterates through your list of misclassified examples and checks to see if any red traffic lights have been mistakenly labelled [0, 1, 0] (green)."
   ]
  },
  {
   "cell_type": "code",
   "execution_count": 392,
   "metadata": {},
   "outputs": [
    {
     "data": {
      "text/markdown": [
       "**<span style=\"color: green;\">TEST PASSED</span>**"
      ],
      "text/plain": [
       "<IPython.core.display.Markdown object>"
      ]
     },
     "metadata": {},
     "output_type": "display_data"
    }
   ],
   "source": [
    "# Importing the tests\n",
    "import test_functions\n",
    "tests = test_functions.Tests()\n",
    "\n",
    "if(len(MISCLASSIFIED) > 0):\n",
    "    # Test code for one_hot_encode function\n",
    "    tests.test_red_as_green(MISCLASSIFIED)\n",
    "else:\n",
    "    print(\"MISCLASSIFIED may not have been populated with images.\")\n"
   ]
  },
  {
   "cell_type": "markdown",
   "metadata": {},
   "source": [
    "# 5. Improve your algorithm!\n",
    "\n",
    "**Submit your project after you have completed all implementations, answered all questions, AND when you've met the two criteria:**\n",
    "1. Greater than 90% accuracy classification\n",
    "2. No red lights classified as green\n",
    "\n",
    "If you did not meet these requirements (which is common on the first attempt!), revisit your algorithm and tweak it to improve light recognition -- this could mean changing the brightness feature, performing some background subtraction, or adding another feature!\n",
    "\n",
    "---"
   ]
  },
  {
   "cell_type": "markdown",
   "metadata": {
    "collapsed": true
   },
   "source": [
    "### Going Further (Optional Challenges)\n",
    "\n",
    "If you found this challenge easy, I suggest you go above and beyond! Here are a couple **optional** (meaning you do not need to implement these to submit and pass the project) suggestions:\n",
    "* (Optional) Aim for >95% classification accuracy.\n",
    "* (Optional) Some lights are in the shape of arrows; further classify the lights as round or arrow-shaped.\n",
    "* (Optional) Add another feature and aim for as close to 100% accuracy as you can get!"
   ]
  },
  {
   "cell_type": "code",
   "execution_count": null,
   "metadata": {
    "collapsed": true
   },
   "outputs": [],
   "source": []
  }
 ],
 "metadata": {
  "anaconda-cloud": {},
  "kernelspec": {
   "display_name": "Python 3",
   "language": "python",
   "name": "python3"
  },
  "language_info": {
   "codemirror_mode": {
    "name": "ipython",
    "version": 3
   },
   "file_extension": ".py",
   "mimetype": "text/x-python",
   "name": "python",
   "nbconvert_exporter": "python",
   "pygments_lexer": "ipython3",
   "version": "3.6.3"
  }
 },
 "nbformat": 4,
 "nbformat_minor": 2
}
